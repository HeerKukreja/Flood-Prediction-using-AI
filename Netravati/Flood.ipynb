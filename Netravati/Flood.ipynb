{
  "nbformat": 4,
  "nbformat_minor": 0,
  "metadata": {
    "colab": {
      "name": "Flood.ipynb",
      "provenance": [],
      "collapsed_sections": [],
      "toc_visible": true,
      "authorship_tag": "ABX9TyPkIfrfTp1cQuKy3E7OwDHL",
      "include_colab_link": true
    },
    "kernelspec": {
      "name": "python3",
      "display_name": "Python 3"
    }
  },
  "cells": [
    {
      "cell_type": "markdown",
      "metadata": {
        "id": "view-in-github",
        "colab_type": "text"
      },
      "source": [
        "<a href=\"https://colab.research.google.com/github/HeerKukreja/Flood-Prediction-using-AI/blob/add_python/Flood.ipynb\" target=\"_parent\"><img src=\"https://colab.research.google.com/assets/colab-badge.svg\" alt=\"Open In Colab\"/></a>"
      ]
    },
    {
      "cell_type": "code",
      "metadata": {
        "id": "tYmLCL3BWHDN",
        "colab_type": "code",
        "colab": {
          "base_uri": "https://localhost:8080/",
          "height": 35
        },
        "outputId": "7aff05e0-99fb-4975-e43c-b512e7a1fdc8"
      },
      "source": [
        "from google.colab import drive\n",
        "drive.mount('/content/drive')"
      ],
      "execution_count": null,
      "outputs": [
        {
          "output_type": "stream",
          "text": [
            "Drive already mounted at /content/drive; to attempt to forcibly remount, call drive.mount(\"/content/drive\", force_remount=True).\n"
          ],
          "name": "stdout"
        }
      ]
    },
    {
      "cell_type": "code",
      "metadata": {
        "id": "cmyPUlhYWIHB",
        "colab_type": "code",
        "colab": {}
      },
      "source": [
        "import pandas as pd\n",
        "path = \"/content/drive/My Drive/FloodPrediction/WeatherData.csv\"\n",
        "dataset = pd.read_csv(path)"
      ],
      "execution_count": null,
      "outputs": []
    },
    {
      "cell_type": "code",
      "metadata": {
        "id": "0_Ect6HCYvXS",
        "colab_type": "code",
        "colab": {
          "base_uri": "https://localhost:8080/",
          "height": 35
        },
        "outputId": "c5af2e26-caa5-4bf1-b263-643972b44ca9"
      },
      "source": [
        "dataset.shape"
      ],
      "execution_count": null,
      "outputs": [
        {
          "output_type": "execute_result",
          "data": {
            "text/plain": [
              "(3652, 5)"
            ]
          },
          "metadata": {
            "tags": []
          },
          "execution_count": 37
        }
      ]
    },
    {
      "cell_type": "code",
      "metadata": {
        "id": "1lG9mIe-ZXL0",
        "colab_type": "code",
        "colab": {}
      },
      "source": [
        "X = dataset.iloc[:,0:4].values\n",
        "y = dataset.iloc[:, 4].values"
      ],
      "execution_count": null,
      "outputs": []
    },
    {
      "cell_type": "code",
      "metadata": {
        "id": "wiBq2o1IcK7Y",
        "colab_type": "code",
        "colab": {
          "base_uri": "https://localhost:8080/",
          "height": 136
        },
        "outputId": "b21892a2-1a80-43fd-cfc9-dea2bb9c141e"
      },
      "source": [
        "X"
      ],
      "execution_count": null,
      "outputs": [
        {
          "output_type": "execute_result",
          "data": {
            "text/plain": [
              "array([[6.3000e-01, 1.6579e-02, 8.3120e+01, 9.7380e+01],\n",
              "       [3.0000e-02, 1.5248e-02, 7.7010e+01, 9.7540e+01],\n",
              "       [1.0000e-02, 1.3812e-02, 7.3860e+01, 9.7570e+01],\n",
              "       ...,\n",
              "       [8.8000e-01, 1.6379e-02, 7.6940e+01, 9.7400e+01],\n",
              "       [4.2000e-01, 1.6078e-02, 7.6560e+01, 9.7460e+01],\n",
              "       [6.4000e-01, 1.6404e-02, 7.9000e+01, 9.7510e+01]])"
            ]
          },
          "metadata": {
            "tags": []
          },
          "execution_count": 5
        }
      ]
    },
    {
      "cell_type": "code",
      "metadata": {
        "id": "yLs2qi5scahZ",
        "colab_type": "code",
        "colab": {}
      },
      "source": [
        "from sklearn.preprocessing import OneHotEncoder\n",
        "from sklearn.compose import ColumnTransformer\n",
        "from sklearn.preprocessing import LabelEncoder, OneHotEncoder"
      ],
      "execution_count": null,
      "outputs": []
    },
    {
      "cell_type": "code",
      "metadata": {
        "id": "YWLoZeJddN9b",
        "colab_type": "code",
        "colab": {}
      },
      "source": [
        "from sklearn.model_selection import train_test_split\n",
        "X_train, X_test, y_train, y_test = train_test_split(X, y, test_size = 0.2, random_state = 0)"
      ],
      "execution_count": null,
      "outputs": []
    },
    {
      "cell_type": "code",
      "metadata": {
        "id": "0ywJc2hMdl7J",
        "colab_type": "code",
        "colab": {}
      },
      "source": [
        "from sklearn.preprocessing import StandardScaler\n",
        "sc = StandardScaler()\n",
        "X_train = sc.fit_transform(X_train)\n",
        "X_test = sc.transform(X_test)"
      ],
      "execution_count": null,
      "outputs": []
    },
    {
      "cell_type": "code",
      "metadata": {
        "id": "-lXU0slMd2q4",
        "colab_type": "code",
        "colab": {
          "base_uri": "https://localhost:8080/",
          "height": 139
        },
        "outputId": "8edcfd00-2d16-4c08-8859-694201d9a289"
      },
      "source": [
        "X_test"
      ],
      "execution_count": null,
      "outputs": [
        {
          "output_type": "execute_result",
          "data": {
            "text/plain": [
              "array([[-0.56440558, -1.85387077, -1.99031136,  1.38227554],\n",
              "       [ 0.18852632,  0.5829366 ,  1.19203683, -0.46822633],\n",
              "       [ 0.80582908,  0.59145832,  0.97643667, -0.97290866],\n",
              "       ...,\n",
              "       [ 0.37739308,  1.16079067,  1.00563253, -0.63645377],\n",
              "       [-0.42877643,  0.86293611,  0.92253663, -0.91683284],\n",
              "       [-0.57581364, -2.95236161, -2.41103112,  1.49442717]])"
            ]
          },
          "metadata": {
            "tags": []
          },
          "execution_count": 19
        }
      ]
    },
    {
      "cell_type": "code",
      "metadata": {
        "id": "Exe01vIEeo68",
        "colab_type": "code",
        "colab": {
          "base_uri": "https://localhost:8080/",
          "height": 35
        },
        "outputId": "1dbc028e-d84a-42c1-faef-fc5706808cca"
      },
      "source": [
        "y_train"
      ],
      "execution_count": null,
      "outputs": [
        {
          "output_type": "execute_result",
          "data": {
            "text/plain": [
              "array([0, 0, 0, ..., 0, 0, 0])"
            ]
          },
          "metadata": {
            "tags": []
          },
          "execution_count": 21
        }
      ]
    },
    {
      "cell_type": "code",
      "metadata": {
        "id": "yUHYJgBvexY1",
        "colab_type": "code",
        "colab": {
          "base_uri": "https://localhost:8080/",
          "height": 34
        },
        "outputId": "225ddc01-fd74-48f2-8020-303259ee927a"
      },
      "source": [
        "X_train.shape"
      ],
      "execution_count": null,
      "outputs": [
        {
          "output_type": "execute_result",
          "data": {
            "text/plain": [
              "(2921, 4)"
            ]
          },
          "metadata": {
            "tags": []
          },
          "execution_count": 23
        }
      ]
    },
    {
      "cell_type": "code",
      "metadata": {
        "id": "Il24NTMbe7p4",
        "colab_type": "code",
        "colab": {
          "base_uri": "https://localhost:8080/",
          "height": 34
        },
        "outputId": "349c6b4c-f523-4303-a0f9-1fc99e0cce63"
      },
      "source": [
        "y_train.shape"
      ],
      "execution_count": null,
      "outputs": [
        {
          "output_type": "execute_result",
          "data": {
            "text/plain": [
              "(2921,)"
            ]
          },
          "metadata": {
            "tags": []
          },
          "execution_count": 8
        }
      ]
    },
    {
      "cell_type": "code",
      "metadata": {
        "id": "pr3YZKorXXmZ",
        "colab_type": "code",
        "colab": {}
      },
      "source": [
        "from sklearn.utils import resample"
      ],
      "execution_count": null,
      "outputs": []
    },
    {
      "cell_type": "code",
      "metadata": {
        "id": "DoXwJHTeXZ-r",
        "colab_type": "code",
        "colab": {}
      },
      "source": [
        "import numpy as np\n",
        "X = np.concatenate((X_train, y_train[:,None]), axis=1)"
      ],
      "execution_count": null,
      "outputs": []
    },
    {
      "cell_type": "code",
      "metadata": {
        "id": "YCjdj8mPXc7t",
        "colab_type": "code",
        "colab": {}
      },
      "source": [
        "no_floods = X[X[:,4]==0]\n",
        "floods = X[X[:,4]==1]"
      ],
      "execution_count": null,
      "outputs": []
    },
    {
      "cell_type": "code",
      "metadata": {
        "id": "MIpJrjixXfc1",
        "colab_type": "code",
        "colab": {}
      },
      "source": [
        "no_floods_downsampled = resample(no_floods,\n",
        "                                replace = False, # sample without replacement\n",
        "                                n_samples = len(floods), # match minority n\n",
        "                                random_state = 27) # reproducible results"
      ],
      "execution_count": null,
      "outputs": []
    },
    {
      "cell_type": "code",
      "metadata": {
        "id": "yEs4XsMLXj2E",
        "colab_type": "code",
        "colab": {}
      },
      "source": [
        "downsampled = np.concatenate([no_floods_downsampled, floods])"
      ],
      "execution_count": null,
      "outputs": []
    },
    {
      "cell_type": "code",
      "metadata": {
        "id": "tI-lhDuUXmjS",
        "colab_type": "code",
        "colab": {}
      },
      "source": [
        "np.random.shuffle(downsampled)"
      ],
      "execution_count": null,
      "outputs": []
    },
    {
      "cell_type": "code",
      "metadata": {
        "id": "B8J-iGTvXojO",
        "colab_type": "code",
        "colab": {}
      },
      "source": [
        "X = downsampled[:,0:4]\n",
        "y = downsampled[:, 4]"
      ],
      "execution_count": null,
      "outputs": []
    },
    {
      "cell_type": "code",
      "metadata": {
        "id": "VoACBIviXqxc",
        "colab_type": "code",
        "colab": {}
      },
      "source": [
        "from sklearn.model_selection import train_test_split\n",
        "X_train, X_test, y_train, y_test = train_test_split(X, y, test_size = 0.2, random_state = 0)"
      ],
      "execution_count": null,
      "outputs": []
    },
    {
      "cell_type": "code",
      "metadata": {
        "id": "qfsZlB8wfELl",
        "colab_type": "code",
        "colab": {
          "base_uri": "https://localhost:8080/",
          "height": 88
        },
        "outputId": "f30c457e-f005-4192-9fe3-e60098fa61ad"
      },
      "source": [
        "from sklearn.svm import SVC\n",
        "svclassifier = SVC(kernel='sigmoid')\n",
        "svclassifier.fit(X_train, y_train)"
      ],
      "execution_count": null,
      "outputs": [
        {
          "output_type": "execute_result",
          "data": {
            "text/plain": [
              "SVC(C=1.0, break_ties=False, cache_size=200, class_weight=None, coef0=0.0,\n",
              "    decision_function_shape='ovr', degree=3, gamma='scale', kernel='sigmoid',\n",
              "    max_iter=-1, probability=False, random_state=None, shrinking=True,\n",
              "    tol=0.001, verbose=False)"
            ]
          },
          "metadata": {
            "tags": []
          },
          "execution_count": 50
        }
      ]
    },
    {
      "cell_type": "code",
      "metadata": {
        "id": "z5wZYxfcgvXG",
        "colab_type": "code",
        "colab": {}
      },
      "source": [
        "y_pred=svclassifier.predict(X_test)"
      ],
      "execution_count": null,
      "outputs": []
    },
    {
      "cell_type": "code",
      "metadata": {
        "id": "vFDUhMIog6vB",
        "colab_type": "code",
        "colab": {
          "base_uri": "https://localhost:8080/",
          "height": 212
        },
        "outputId": "70d0b2f7-7af6-46ca-8f0e-f07ca8139686"
      },
      "source": [
        "from sklearn.metrics import classification_report, confusion_matrix\n",
        "print(confusion_matrix(y_test, y_pred))\n",
        "print(classification_report(y_test, y_pred))"
      ],
      "execution_count": null,
      "outputs": [
        {
          "output_type": "stream",
          "text": [
            "[[3 0]\n",
            " [0 3]]\n",
            "              precision    recall  f1-score   support\n",
            "\n",
            "         0.0       1.00      1.00      1.00         3\n",
            "         1.0       1.00      1.00      1.00         3\n",
            "\n",
            "    accuracy                           1.00         6\n",
            "   macro avg       1.00      1.00      1.00         6\n",
            "weighted avg       1.00      1.00      1.00         6\n",
            "\n"
          ],
          "name": "stdout"
        }
      ]
    },
    {
      "cell_type": "code",
      "metadata": {
        "id": "dVjKt4yiUdFa",
        "colab_type": "code",
        "colab": {}
      },
      "source": [
        "conf_mat = confusion_matrix(y_test, y_pred)"
      ],
      "execution_count": null,
      "outputs": []
    },
    {
      "cell_type": "code",
      "metadata": {
        "id": "9FDjq2gJVT_P",
        "colab_type": "code",
        "colab": {
          "base_uri": "https://localhost:8080/",
          "height": 71
        },
        "outputId": "7fe63b91-5295-44b8-e859-a963804d558c"
      },
      "source": [
        "import seaborn as sn"
      ],
      "execution_count": null,
      "outputs": [
        {
          "output_type": "stream",
          "text": [
            "/usr/local/lib/python3.6/dist-packages/statsmodels/tools/_testing.py:19: FutureWarning: pandas.util.testing is deprecated. Use the functions in the public API at pandas.testing instead.\n",
            "  import pandas.util.testing as tm\n"
          ],
          "name": "stderr"
        }
      ]
    },
    {
      "cell_type": "code",
      "metadata": {
        "id": "nF9nZgEXUi2n",
        "colab_type": "code",
        "colab": {
          "base_uri": "https://localhost:8080/",
          "height": 286
        },
        "outputId": "c734f843-ecfe-44bc-9f3a-8047a8f14d60"
      },
      "source": [
        "sn.heatmap(conf_mat,annot=True,cmap=\"YlGnBu\")"
      ],
      "execution_count": null,
      "outputs": [
        {
          "output_type": "execute_result",
          "data": {
            "text/plain": [
              "<matplotlib.axes._subplots.AxesSubplot at 0x7f630fda36a0>"
            ]
          },
          "metadata": {
            "tags": []
          },
          "execution_count": 34
        },
        {
          "output_type": "display_data",
          "data": {
            "image/png": "[encoded data removed]",
            "text/plain": [
              "<Figure size 432x288 with 2 Axes>"
            ]
          },
          "metadata": {
            "tags": []
          }
        }
      ]
    },
    {
      "cell_type": "code",
      "metadata": {
        "id": "6C9w9RCShxxB",
        "colab_type": "code",
        "colab": {}
      },
      "source": [
        "\n",
        "from tensorflow.python.keras.layers import Dense\n",
        "from tensorflow.python.keras import Sequential\n"
      ],
      "execution_count": null,
      "outputs": []
    },
    {
      "cell_type": "code",
      "metadata": {
        "id": "LYmnUR2qlHzS",
        "colab_type": "code",
        "colab": {}
      },
      "source": [
        "classifierann = Sequential()\n"
      ],
      "execution_count": null,
      "outputs": []
    },
    {
      "cell_type": "code",
      "metadata": {
        "id": "R6nsbn73tB2e",
        "colab_type": "code",
        "colab": {}
      },
      "source": [
        "classifierann.add(Dense(6, activation = 'relu', input_dim = 4))"
      ],
      "execution_count": null,
      "outputs": []
    },
    {
      "cell_type": "code",
      "metadata": {
        "id": "fx4X8vzpnZ62",
        "colab_type": "code",
        "colab": {}
      },
      "source": [
        "classifierann.add(Dense(6, activation='relu'))"
      ],
      "execution_count": null,
      "outputs": []
    },
    {
      "cell_type": "code",
      "metadata": {
        "id": "xxKteAZMoiU5",
        "colab_type": "code",
        "colab": {}
      },
      "source": [
        "classifierann.add(Dense(1, activation='sigmoid'))"
      ],
      "execution_count": null,
      "outputs": []
    },
    {
      "cell_type": "code",
      "metadata": {
        "id": "5YOIJveIoxyP",
        "colab_type": "code",
        "colab": {}
      },
      "source": [
        "classifierann.compile(loss='binary_crossentropy', optimizer='adam', metrics=['accuracy'])"
      ],
      "execution_count": null,
      "outputs": []
    },
    {
      "cell_type": "code",
      "metadata": {
        "id": "uoH4clAtpQCC",
        "colab_type": "code",
        "colab": {
          "base_uri": "https://localhost:8080/",
          "height": 1000
        },
        "outputId": "1ecde410-d839-49ca-b33b-57ee86b3519c"
      },
      "source": [
        "classifierann.fit(X_train, y_train, epochs=150, batch_size=10)"
      ],
      "execution_count": null,
      "outputs": [
        {
          "output_type": "stream",
          "text": [
            "Epoch 1/150\n",
            "3/3 [==============================] - 0s 3ms/step - loss: 1.0573 - accuracy: 0.2083\n",
            "Epoch 2/150\n",
            "3/3 [==============================] - 0s 2ms/step - loss: 1.0405 - accuracy: 0.2083\n",
            "Epoch 3/150\n",
            "3/3 [==============================] - 0s 2ms/step - loss: 1.0347 - accuracy: 0.2083\n",
            "Epoch 4/150\n",
            "3/3 [==============================] - 0s 2ms/step - loss: 0.9501 - accuracy: 0.2083\n",
            "Epoch 5/150\n",
            "3/3 [==============================] - 0s 2ms/step - loss: 0.9581 - accuracy: 0.2083\n",
            "Epoch 6/150\n",
            "3/3 [==============================] - 0s 2ms/step - loss: 0.8913 - accuracy: 0.1667\n",
            "Epoch 7/150\n",
            "3/3 [==============================] - 0s 1ms/step - loss: 0.8888 - accuracy: 0.1667\n",
            "Epoch 8/150\n",
            "3/3 [==============================] - 0s 2ms/step - loss: 0.8101 - accuracy: 0.1667\n",
            "Epoch 9/150\n",
            "3/3 [==============================] - 0s 1ms/step - loss: 0.7977 - accuracy: 0.1667\n",
            "Epoch 10/150\n",
            "3/3 [==============================] - 0s 2ms/step - loss: 0.7921 - accuracy: 0.1250\n",
            "Epoch 11/150\n",
            "3/3 [==============================] - 0s 2ms/step - loss: 0.7525 - accuracy: 0.0833\n",
            "Epoch 12/150\n",
            "3/3 [==============================] - 0s 1ms/step - loss: 0.7855 - accuracy: 0.0833\n",
            "Epoch 13/150\n",
            "3/3 [==============================] - 0s 2ms/step - loss: 0.7380 - accuracy: 0.1250\n",
            "Epoch 14/150\n",
            "3/3 [==============================] - 0s 1ms/step - loss: 0.7359 - accuracy: 0.2083\n",
            "Epoch 15/150\n",
            "3/3 [==============================] - 0s 2ms/step - loss: 0.7258 - accuracy: 0.2500\n",
            "Epoch 16/150\n",
            "3/3 [==============================] - 0s 2ms/step - loss: 0.7071 - accuracy: 0.2500\n",
            "Epoch 17/150\n",
            "3/3 [==============================] - 0s 2ms/step - loss: 0.6986 - accuracy: 0.3333\n",
            "Epoch 18/150\n",
            "3/3 [==============================] - 0s 2ms/step - loss: 0.7001 - accuracy: 0.3750\n",
            "Epoch 19/150\n",
            "3/3 [==============================] - 0s 2ms/step - loss: 0.6916 - accuracy: 0.4583\n",
            "Epoch 20/150\n",
            "3/3 [==============================] - 0s 2ms/step - loss: 0.6692 - accuracy: 0.5000\n",
            "Epoch 21/150\n",
            "3/3 [==============================] - 0s 2ms/step - loss: 0.6616 - accuracy: 0.5833\n",
            "Epoch 22/150\n",
            "3/3 [==============================] - 0s 2ms/step - loss: 0.6652 - accuracy: 0.5833\n",
            "Epoch 23/150\n",
            "3/3 [==============================] - 0s 2ms/step - loss: 0.6657 - accuracy: 0.6250\n",
            "Epoch 24/150\n",
            "3/3 [==============================] - 0s 2ms/step - loss: 0.6492 - accuracy: 0.6667\n",
            "Epoch 25/150\n",
            "3/3 [==============================] - 0s 2ms/step - loss: 0.6500 - accuracy: 0.6667\n",
            "Epoch 26/150\n",
            "3/3 [==============================] - 0s 2ms/step - loss: 0.6339 - accuracy: 0.6667\n",
            "Epoch 27/150\n",
            "3/3 [==============================] - 0s 2ms/step - loss: 0.6392 - accuracy: 0.6667\n",
            "Epoch 28/150\n",
            "3/3 [==============================] - 0s 2ms/step - loss: 0.6268 - accuracy: 0.6667\n",
            "Epoch 29/150\n",
            "3/3 [==============================] - 0s 2ms/step - loss: 0.6099 - accuracy: 0.6667\n",
            "Epoch 30/150\n",
            "3/3 [==============================] - 0s 4ms/step - loss: 0.6240 - accuracy: 0.6667\n",
            "Epoch 31/150\n",
            "3/3 [==============================] - 0s 2ms/step - loss: 0.5943 - accuracy: 0.6667\n",
            "Epoch 32/150\n",
            "3/3 [==============================] - 0s 2ms/step - loss: 0.5974 - accuracy: 0.7500\n",
            "Epoch 33/150\n",
            "3/3 [==============================] - 0s 2ms/step - loss: 0.5974 - accuracy: 0.7500\n",
            "Epoch 34/150\n",
            "3/3 [==============================] - 0s 2ms/step - loss: 0.5935 - accuracy: 0.7917\n",
            "Epoch 35/150\n",
            "3/3 [==============================] - 0s 2ms/step - loss: 0.5538 - accuracy: 0.8333\n",
            "Epoch 36/150\n",
            "3/3 [==============================] - 0s 2ms/step - loss: 0.5759 - accuracy: 0.8333\n",
            "Epoch 37/150\n",
            "3/3 [==============================] - 0s 2ms/step - loss: 0.5947 - accuracy: 0.8333\n",
            "Epoch 38/150\n",
            "3/3 [==============================] - 0s 2ms/step - loss: 0.5767 - accuracy: 0.8333\n",
            "Epoch 39/150\n",
            "3/3 [==============================] - 0s 2ms/step - loss: 0.5740 - accuracy: 0.7917\n",
            "Epoch 40/150\n",
            "3/3 [==============================] - 0s 2ms/step - loss: 0.5529 - accuracy: 0.7917\n",
            "Epoch 41/150\n",
            "3/3 [==============================] - 0s 2ms/step - loss: 0.5481 - accuracy: 0.7917\n",
            "Epoch 42/150\n",
            "3/3 [==============================] - 0s 2ms/step - loss: 0.5665 - accuracy: 0.7917\n",
            "Epoch 43/150\n",
            "3/3 [==============================] - 0s 2ms/step - loss: 0.5511 - accuracy: 0.7917\n",
            "Epoch 44/150\n",
            "3/3 [==============================] - 0s 2ms/step - loss: 0.5723 - accuracy: 0.8333\n",
            "Epoch 45/150\n",
            "3/3 [==============================] - 0s 2ms/step - loss: 0.5789 - accuracy: 0.8333\n",
            "Epoch 46/150\n",
            "3/3 [==============================] - 0s 1ms/step - loss: 0.5307 - accuracy: 0.8333\n",
            "Epoch 47/150\n",
            "3/3 [==============================] - 0s 2ms/step - loss: 0.5419 - accuracy: 0.8333\n",
            "Epoch 48/150\n",
            "3/3 [==============================] - 0s 2ms/step - loss: 0.5531 - accuracy: 0.8333\n",
            "Epoch 49/150\n",
            "3/3 [==============================] - 0s 2ms/step - loss: 0.5432 - accuracy: 0.8333\n",
            "Epoch 50/150\n",
            "3/3 [==============================] - 0s 2ms/step - loss: 0.5372 - accuracy: 0.8333\n",
            "Epoch 51/150\n",
            "3/3 [==============================] - 0s 3ms/step - loss: 0.5287 - accuracy: 0.8333\n",
            "Epoch 52/150\n",
            "3/3 [==============================] - 0s 2ms/step - loss: 0.5143 - accuracy: 0.8333\n",
            "Epoch 53/150\n",
            "3/3 [==============================] - 0s 2ms/step - loss: 0.5240 - accuracy: 0.8333\n",
            "Epoch 54/150\n",
            "3/3 [==============================] - 0s 2ms/step - loss: 0.5360 - accuracy: 0.8333\n",
            "Epoch 55/150\n",
            "3/3 [==============================] - 0s 2ms/step - loss: 0.5142 - accuracy: 0.8333\n",
            "Epoch 56/150\n",
            "3/3 [==============================] - 0s 2ms/step - loss: 0.5022 - accuracy: 0.8333\n",
            "Epoch 57/150\n",
            "3/3 [==============================] - 0s 2ms/step - loss: 0.5432 - accuracy: 0.8333\n",
            "Epoch 58/150\n",
            "3/3 [==============================] - 0s 2ms/step - loss: 0.5152 - accuracy: 0.8333\n",
            "Epoch 59/150\n",
            "3/3 [==============================] - 0s 2ms/step - loss: 0.5068 - accuracy: 0.8333\n",
            "Epoch 60/150\n",
            "3/3 [==============================] - 0s 2ms/step - loss: 0.4909 - accuracy: 0.8333\n",
            "Epoch 61/150\n",
            "3/3 [==============================] - 0s 1ms/step - loss: 0.5177 - accuracy: 0.8333\n",
            "Epoch 62/150\n",
            "3/3 [==============================] - 0s 2ms/step - loss: 0.4907 - accuracy: 0.8333\n",
            "Epoch 63/150\n",
            "3/3 [==============================] - 0s 2ms/step - loss: 0.4938 - accuracy: 0.8333\n",
            "Epoch 64/150\n",
            "3/3 [==============================] - 0s 2ms/step - loss: 0.4738 - accuracy: 0.8333\n",
            "Epoch 65/150\n",
            "3/3 [==============================] - 0s 2ms/step - loss: 0.5312 - accuracy: 0.8333\n",
            "Epoch 66/150\n",
            "3/3 [==============================] - 0s 2ms/step - loss: 0.4692 - accuracy: 0.8333\n",
            "Epoch 67/150\n",
            "3/3 [==============================] - 0s 2ms/step - loss: 0.4663 - accuracy: 0.8333\n",
            "Epoch 68/150\n",
            "3/3 [==============================] - 0s 2ms/step - loss: 0.4861 - accuracy: 0.8333\n",
            "Epoch 69/150\n",
            "3/3 [==============================] - 0s 2ms/step - loss: 0.4789 - accuracy: 0.8333\n",
            "Epoch 70/150\n",
            "3/3 [==============================] - 0s 2ms/step - loss: 0.4638 - accuracy: 0.8333\n",
            "Epoch 71/150\n",
            "3/3 [==============================] - 0s 2ms/step - loss: 0.4808 - accuracy: 0.8333\n",
            "Epoch 72/150\n",
            "3/3 [==============================] - 0s 2ms/step - loss: 0.4856 - accuracy: 0.8333\n",
            "Epoch 73/150\n",
            "3/3 [==============================] - 0s 1ms/step - loss: 0.4946 - accuracy: 0.8333\n",
            "Epoch 74/150\n",
            "3/3 [==============================] - 0s 2ms/step - loss: 0.4826 - accuracy: 0.8333\n",
            "Epoch 75/150\n",
            "3/3 [==============================] - 0s 2ms/step - loss: 0.4669 - accuracy: 0.8333\n",
            "Epoch 76/150\n",
            "3/3 [==============================] - 0s 2ms/step - loss: 0.4473 - accuracy: 0.8333\n",
            "Epoch 77/150\n",
            "3/3 [==============================] - 0s 2ms/step - loss: 0.5187 - accuracy: 0.8333\n",
            "Epoch 78/150\n",
            "3/3 [==============================] - 0s 2ms/step - loss: 0.4502 - accuracy: 0.8333\n",
            "Epoch 79/150\n",
            "3/3 [==============================] - 0s 2ms/step - loss: 0.4375 - accuracy: 0.8333\n",
            "Epoch 80/150\n",
            "3/3 [==============================] - 0s 2ms/step - loss: 0.4436 - accuracy: 0.8333\n",
            "Epoch 81/150\n",
            "3/3 [==============================] - 0s 2ms/step - loss: 0.4547 - accuracy: 0.8333\n",
            "Epoch 82/150\n",
            "3/3 [==============================] - 0s 2ms/step - loss: 0.4261 - accuracy: 0.8750\n",
            "Epoch 83/150\n",
            "3/3 [==============================] - 0s 2ms/step - loss: 0.4311 - accuracy: 0.8750\n",
            "Epoch 84/150\n",
            "3/3 [==============================] - 0s 2ms/step - loss: 0.4195 - accuracy: 0.8750\n",
            "Epoch 85/150\n",
            "3/3 [==============================] - 0s 1ms/step - loss: 0.4340 - accuracy: 0.8750\n",
            "Epoch 86/150\n",
            "3/3 [==============================] - 0s 2ms/step - loss: 0.4299 - accuracy: 0.8750\n",
            "Epoch 87/150\n",
            "3/3 [==============================] - 0s 2ms/step - loss: 0.4529 - accuracy: 0.8750\n",
            "Epoch 88/150\n",
            "3/3 [==============================] - 0s 2ms/step - loss: 0.3998 - accuracy: 0.8750\n",
            "Epoch 89/150\n",
            "3/3 [==============================] - 0s 2ms/step - loss: 0.4069 - accuracy: 0.8750\n",
            "Epoch 90/150\n",
            "3/3 [==============================] - 0s 3ms/step - loss: 0.3929 - accuracy: 0.8750\n",
            "Epoch 91/150\n",
            "3/3 [==============================] - 0s 3ms/step - loss: 0.4498 - accuracy: 0.8750\n",
            "Epoch 92/150\n",
            "3/3 [==============================] - 0s 2ms/step - loss: 0.3869 - accuracy: 0.8750\n",
            "Epoch 93/150\n",
            "3/3 [==============================] - 0s 2ms/step - loss: 0.4368 - accuracy: 0.8750\n",
            "Epoch 94/150\n",
            "3/3 [==============================] - 0s 2ms/step - loss: 0.4263 - accuracy: 0.8750\n",
            "Epoch 95/150\n",
            "3/3 [==============================] - 0s 2ms/step - loss: 0.4073 - accuracy: 0.8750\n",
            "Epoch 96/150\n",
            "3/3 [==============================] - 0s 2ms/step - loss: 0.3803 - accuracy: 0.9167\n",
            "Epoch 97/150\n",
            "3/3 [==============================] - 0s 2ms/step - loss: 0.4408 - accuracy: 0.9167\n",
            "Epoch 98/150\n",
            "3/3 [==============================] - 0s 1ms/step - loss: 0.3696 - accuracy: 0.9167\n",
            "Epoch 99/150\n",
            "3/3 [==============================] - 0s 2ms/step - loss: 0.3915 - accuracy: 0.9167\n",
            "Epoch 100/150\n",
            "3/3 [==============================] - 0s 2ms/step - loss: 0.3761 - accuracy: 0.9167\n",
            "Epoch 101/150\n",
            "3/3 [==============================] - 0s 2ms/step - loss: 0.4092 - accuracy: 0.9167\n",
            "Epoch 102/150\n",
            "3/3 [==============================] - 0s 2ms/step - loss: 0.4085 - accuracy: 0.9167\n",
            "Epoch 103/150\n",
            "3/3 [==============================] - 0s 2ms/step - loss: 0.3917 - accuracy: 0.9167\n",
            "Epoch 104/150\n",
            "3/3 [==============================] - 0s 2ms/step - loss: 0.3967 - accuracy: 0.9167\n",
            "Epoch 105/150\n",
            "3/3 [==============================] - 0s 3ms/step - loss: 0.3629 - accuracy: 0.9167\n",
            "Epoch 106/150\n",
            "3/3 [==============================] - 0s 2ms/step - loss: 0.3891 - accuracy: 0.9167\n",
            "Epoch 107/150\n",
            "3/3 [==============================] - 0s 2ms/step - loss: 0.3902 - accuracy: 0.9167\n",
            "Epoch 108/150\n",
            "3/3 [==============================] - 0s 2ms/step - loss: 0.3790 - accuracy: 0.9167\n",
            "Epoch 109/150\n",
            "3/3 [==============================] - 0s 2ms/step - loss: 0.3921 - accuracy: 0.9167\n",
            "Epoch 110/150\n",
            "3/3 [==============================] - 0s 2ms/step - loss: 0.3869 - accuracy: 0.9167\n",
            "Epoch 111/150\n",
            "3/3 [==============================] - 0s 2ms/step - loss: 0.3506 - accuracy: 0.9167\n",
            "Epoch 112/150\n",
            "3/3 [==============================] - 0s 2ms/step - loss: 0.3806 - accuracy: 0.9167\n",
            "Epoch 113/150\n",
            "3/3 [==============================] - 0s 2ms/step - loss: 0.3464 - accuracy: 0.9167\n",
            "Epoch 114/150\n",
            "3/3 [==============================] - 0s 2ms/step - loss: 0.3342 - accuracy: 0.9167\n",
            "Epoch 115/150\n",
            "3/3 [==============================] - 0s 2ms/step - loss: 0.3771 - accuracy: 0.9167\n",
            "Epoch 116/150\n",
            "3/3 [==============================] - 0s 2ms/step - loss: 0.3524 - accuracy: 0.9167\n",
            "Epoch 117/150\n",
            "3/3 [==============================] - 0s 2ms/step - loss: 0.3503 - accuracy: 0.9167\n",
            "Epoch 118/150\n",
            "3/3 [==============================] - 0s 2ms/step - loss: 0.3570 - accuracy: 0.9167\n",
            "Epoch 119/150\n",
            "3/3 [==============================] - 0s 2ms/step - loss: 0.3208 - accuracy: 0.9167\n",
            "Epoch 120/150\n",
            "3/3 [==============================] - 0s 2ms/step - loss: 0.3059 - accuracy: 0.9167\n",
            "Epoch 121/150\n",
            "3/3 [==============================] - 0s 2ms/step - loss: 0.3577 - accuracy: 0.9167\n",
            "Epoch 122/150\n",
            "3/3 [==============================] - 0s 2ms/step - loss: 0.3153 - accuracy: 0.9167\n",
            "Epoch 123/150\n",
            "3/3 [==============================] - 0s 2ms/step - loss: 0.3512 - accuracy: 0.9167\n",
            "Epoch 124/150\n",
            "3/3 [==============================] - 0s 2ms/step - loss: 0.3401 - accuracy: 0.9167\n",
            "Epoch 125/150\n",
            "3/3 [==============================] - 0s 2ms/step - loss: 0.3170 - accuracy: 0.9167\n",
            "Epoch 126/150\n",
            "3/3 [==============================] - 0s 2ms/step - loss: 0.3091 - accuracy: 0.9583\n",
            "Epoch 127/150\n",
            "3/3 [==============================] - 0s 2ms/step - loss: 0.2920 - accuracy: 0.9583\n",
            "Epoch 128/150\n",
            "3/3 [==============================] - 0s 2ms/step - loss: 0.3185 - accuracy: 0.9583\n",
            "Epoch 129/150\n",
            "3/3 [==============================] - 0s 2ms/step - loss: 0.3242 - accuracy: 0.9583\n",
            "Epoch 130/150\n",
            "3/3 [==============================] - 0s 2ms/step - loss: 0.3308 - accuracy: 0.9583\n",
            "Epoch 131/150\n",
            "3/3 [==============================] - 0s 1ms/step - loss: 0.2892 - accuracy: 0.9583\n",
            "Epoch 132/150\n",
            "3/3 [==============================] - 0s 1ms/step - loss: 0.3143 - accuracy: 0.9583\n",
            "Epoch 133/150\n",
            "3/3 [==============================] - 0s 2ms/step - loss: 0.2902 - accuracy: 0.9583\n",
            "Epoch 134/150\n",
            "3/3 [==============================] - 0s 2ms/step - loss: 0.2973 - accuracy: 0.9583\n",
            "Epoch 135/150\n",
            "3/3 [==============================] - 0s 2ms/step - loss: 0.2887 - accuracy: 0.9583\n",
            "Epoch 136/150\n",
            "3/3 [==============================] - 0s 2ms/step - loss: 0.3195 - accuracy: 0.9583\n",
            "Epoch 137/150\n",
            "3/3 [==============================] - 0s 2ms/step - loss: 0.2835 - accuracy: 0.9583\n",
            "Epoch 138/150\n",
            "3/3 [==============================] - 0s 2ms/step - loss: 0.2975 - accuracy: 0.9583\n",
            "Epoch 139/150\n",
            "3/3 [==============================] - 0s 2ms/step - loss: 0.3072 - accuracy: 0.9583\n",
            "Epoch 140/150\n",
            "3/3 [==============================] - 0s 2ms/step - loss: 0.2756 - accuracy: 0.9583\n",
            "Epoch 141/150\n",
            "3/3 [==============================] - 0s 2ms/step - loss: 0.3034 - accuracy: 0.9583\n",
            "Epoch 142/150\n",
            "3/3 [==============================] - 0s 2ms/step - loss: 0.2908 - accuracy: 0.9583\n",
            "Epoch 143/150\n",
            "3/3 [==============================] - 0s 2ms/step - loss: 0.3120 - accuracy: 0.9583\n",
            "Epoch 144/150\n",
            "3/3 [==============================] - 0s 2ms/step - loss: 0.2772 - accuracy: 0.9583\n",
            "Epoch 145/150\n",
            "3/3 [==============================] - 0s 2ms/step - loss: 0.2482 - accuracy: 0.9583\n",
            "Epoch 146/150\n",
            "3/3 [==============================] - 0s 2ms/step - loss: 0.2404 - accuracy: 0.9583\n",
            "Epoch 147/150\n",
            "3/3 [==============================] - 0s 2ms/step - loss: 0.2711 - accuracy: 0.9583\n",
            "Epoch 148/150\n",
            "3/3 [==============================] - 0s 2ms/step - loss: 0.2431 - accuracy: 0.9583\n",
            "Epoch 149/150\n",
            "3/3 [==============================] - 0s 2ms/step - loss: 0.2466 - accuracy: 0.9583\n",
            "Epoch 150/150\n",
            "3/3 [==============================] - 0s 2ms/step - loss: 0.2832 - accuracy: 0.9583\n"
          ],
          "name": "stdout"
        },
        {
          "output_type": "execute_result",
          "data": {
            "text/plain": [
              "<tensorflow.python.keras.callbacks.History at 0x7f6317898588>"
            ]
          },
          "metadata": {
            "tags": []
          },
          "execution_count": 22
        }
      ]
    },
    {
      "cell_type": "code",
      "metadata": {
        "id": "pc2XTTuNxe3E",
        "colab_type": "code",
        "colab": {}
      },
      "source": [
        "y_pred_ann = classifierann.predict(X_test) "
      ],
      "execution_count": null,
      "outputs": []
    },
    {
      "cell_type": "code",
      "metadata": {
        "id": "i4pcIiAHxh0d",
        "colab_type": "code",
        "colab": {}
      },
      "source": [
        "import numpy as np\n",
        "y_pred_ann = (y_pred_ann>0.5).astype(np.int32)"
      ],
      "execution_count": null,
      "outputs": []
    },
    {
      "cell_type": "code",
      "metadata": {
        "id": "Am1Ihm9tYJLc",
        "colab_type": "code",
        "colab": {
          "base_uri": "https://localhost:8080/",
          "height": 204
        },
        "outputId": "f33b5c18-e611-49d0-f6c2-a450e9b8a52d"
      },
      "source": [
        "from sklearn.metrics import classification_report, confusion_matrix\n",
        "print(confusion_matrix(y_test, y_pred_ann))\n",
        "print(classification_report(y_test, y_pred_ann))"
      ],
      "execution_count": null,
      "outputs": [
        {
          "output_type": "stream",
          "text": [
            "[[3 0]\n",
            " [0 3]]\n",
            "              precision    recall  f1-score   support\n",
            "\n",
            "         0.0       1.00      1.00      1.00         3\n",
            "         1.0       1.00      1.00      1.00         3\n",
            "\n",
            "    accuracy                           1.00         6\n",
            "   macro avg       1.00      1.00      1.00         6\n",
            "weighted avg       1.00      1.00      1.00         6\n",
            "\n"
          ],
          "name": "stdout"
        }
      ]
    },
    {
      "cell_type": "code",
      "metadata": {
        "id": "4L889XnrYKHk",
        "colab_type": "code",
        "colab": {}
      },
      "source": [
        "conf_mat_ann = confusion_matrix(y_test, y_pred_ann)"
      ],
      "execution_count": null,
      "outputs": []
    },
    {
      "cell_type": "code",
      "metadata": {
        "id": "dHOUqqb5XC-e",
        "colab_type": "code",
        "colab": {
          "base_uri": "https://localhost:8080/",
          "height": 286
        },
        "outputId": "d406f854-3e00-4477-bfb3-3ff9e40477bd"
      },
      "source": [
        "sn.heatmap(conf_mat_ann, annot=True, cmap=\"YlGnBu\")"
      ],
      "execution_count": null,
      "outputs": [
        {
          "output_type": "execute_result",
          "data": {
            "text/plain": [
              "<matplotlib.axes._subplots.AxesSubplot at 0x7f6313c930f0>"
            ]
          },
          "metadata": {
            "tags": []
          },
          "execution_count": 29
        },
        {
          "output_type": "display_data",
          "data": {
            "image/png": "[encoded data removed]",
            "text/plain": [
              "<Figure size 432x288 with 2 Axes>"
            ]
          },
          "metadata": {
            "tags": []
          }
        }
      ]
    }
  ]
}