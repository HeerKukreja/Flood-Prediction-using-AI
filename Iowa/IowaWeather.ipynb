{
  "nbformat": 4,
  "nbformat_minor": 0,
  "metadata": {
    "colab": {
      "name": "IowaWeather.ipynb",
      "provenance": []
    },
    "kernelspec": {
      "name": "python3",
      "display_name": "Python 3"
    }
  },
  "cells": [
    {
      "cell_type": "code",
      "metadata": {
        "id": "0E1bw4KT1uHg",
        "outputId": "7b85d030-b084-41d7-ef22-9badb3303d7c",
        "colab": {
          "base_uri": "https://localhost:8080/",
          "height": 34
        }
      },
      "source": [
        "from google.colab import drive\n",
        "drive.mount('/content/gdrive')  "
      ],
      "execution_count": null,
      "outputs": [
        {
          "output_type": "stream",
          "text": [
            "Mounted at /content/gdrive\n"
          ],
          "name": "stdout"
        }
      ]
    },
    {
      "cell_type": "code",
      "metadata": {
        "id": "T4XsmdKd2onW"
      },
      "source": [
        "import pandas as pd\n",
        "import numpy as np"
      ],
      "execution_count": null,
      "outputs": []
    },
    {
      "cell_type": "code",
      "metadata": {
        "id": "laeHHwqK6tfl"
      },
      "source": [
        "gauge = pd.read_csv('/content/gdrive/My Drive/Iowa Data/Climate/GaugeData.txt',sep='\\t',lineterminator='\\r',header=None)"
      ],
      "execution_count": null,
      "outputs": []
    },
    {
      "cell_type": "code",
      "metadata": {
        "id": "h2Z_fzOn7fX0"
      },
      "source": [
        "gauge = gauge.iloc[:,[2,4,6]].copy()\n",
        "gauge.rename({2:\"Date\",4:\"Discharge\",6:\"StageHeight\"},axis='columns',inplace=True)\n",
        "gauge['Date'] = pd.to_datetime(gauge['Date']).dt.date\n",
        "gauge[\"Date\"] = pd.to_datetime(gauge[\"Date\"])"
      ],
      "execution_count": null,
      "outputs": []
    },
    {
      "cell_type": "code",
      "metadata": {
        "id": "lzXJFPS096G1"
      },
      "source": [
        "gauge = gauge.groupby(\"Date\").max()\n",
        "gauge.fillna(method='bfill',inplace=True)"
      ],
      "execution_count": null,
      "outputs": []
    },
    {
      "cell_type": "code",
      "metadata": {
        "id": "VtpSxZh0zl5p",
        "outputId": "f46deaaf-b7c2-48f6-b205-c5e081e87eae",
        "colab": {
          "base_uri": "https://localhost:8080/",
          "height": 450
        }
      },
      "source": [
        "gauge"
      ],
      "execution_count": null,
      "outputs": [
        {
          "output_type": "execute_result",
          "data": {
            "text/html": [
              "<div>\n",
              "<style scoped>\n",
              "    .dataframe tbody tr th:only-of-type {\n",
              "        vertical-align: middle;\n",
              "    }\n",
              "\n",
              "    .dataframe tbody tr th {\n",
              "        vertical-align: top;\n",
              "    }\n",
              "\n",
              "    .dataframe thead th {\n",
              "        text-align: right;\n",
              "    }\n",
              "</style>\n",
              "<table border=\"1\" class=\"dataframe\">\n",
              "  <thead>\n",
              "    <tr style=\"text-align: right;\">\n",
              "      <th></th>\n",
              "      <th>Discharge</th>\n",
              "      <th>StageHeight</th>\n",
              "    </tr>\n",
              "    <tr>\n",
              "      <th>Date</th>\n",
              "      <th></th>\n",
              "      <th></th>\n",
              "    </tr>\n",
              "  </thead>\n",
              "  <tbody>\n",
              "    <tr>\n",
              "      <th>2012-01-01</th>\n",
              "      <td>431.0</td>\n",
              "      <td>6.16</td>\n",
              "    </tr>\n",
              "    <tr>\n",
              "      <th>2012-01-04</th>\n",
              "      <td>431.0</td>\n",
              "      <td>6.13</td>\n",
              "    </tr>\n",
              "    <tr>\n",
              "      <th>2012-01-05</th>\n",
              "      <td>462.0</td>\n",
              "      <td>6.21</td>\n",
              "    </tr>\n",
              "    <tr>\n",
              "      <th>2012-01-06</th>\n",
              "      <td>482.0</td>\n",
              "      <td>6.26</td>\n",
              "    </tr>\n",
              "    <tr>\n",
              "      <th>2012-01-07</th>\n",
              "      <td>486.0</td>\n",
              "      <td>6.27</td>\n",
              "    </tr>\n",
              "    <tr>\n",
              "      <th>...</th>\n",
              "      <td>...</td>\n",
              "      <td>...</td>\n",
              "    </tr>\n",
              "    <tr>\n",
              "      <th>2020-04-27</th>\n",
              "      <td>2800.0</td>\n",
              "      <td>9.68</td>\n",
              "    </tr>\n",
              "    <tr>\n",
              "      <th>2020-04-28</th>\n",
              "      <td>2640.0</td>\n",
              "      <td>9.44</td>\n",
              "    </tr>\n",
              "    <tr>\n",
              "      <th>2020-04-29</th>\n",
              "      <td>2570.0</td>\n",
              "      <td>9.34</td>\n",
              "    </tr>\n",
              "    <tr>\n",
              "      <th>2020-04-30</th>\n",
              "      <td>2470.0</td>\n",
              "      <td>9.19</td>\n",
              "    </tr>\n",
              "    <tr>\n",
              "      <th>2020-05-01</th>\n",
              "      <td>2390.0</td>\n",
              "      <td>9.07</td>\n",
              "    </tr>\n",
              "  </tbody>\n",
              "</table>\n",
              "<p>2964 rows × 2 columns</p>\n",
              "</div>"
            ],
            "text/plain": [
              "            Discharge  StageHeight\n",
              "Date                              \n",
              "2012-01-01      431.0         6.16\n",
              "2012-01-04      431.0         6.13\n",
              "2012-01-05      462.0         6.21\n",
              "2012-01-06      482.0         6.26\n",
              "2012-01-07      486.0         6.27\n",
              "...               ...          ...\n",
              "2020-04-27     2800.0         9.68\n",
              "2020-04-28     2640.0         9.44\n",
              "2020-04-29     2570.0         9.34\n",
              "2020-04-30     2470.0         9.19\n",
              "2020-05-01     2390.0         9.07\n",
              "\n",
              "[2964 rows x 2 columns]"
            ]
          },
          "metadata": {
            "tags": []
          },
          "execution_count": 6
        }
      ]
    },
    {
      "cell_type": "code",
      "metadata": {
        "id": "DcHJ16iODnFO"
      },
      "source": [
        "station1 = pd.read_csv(\"/content/gdrive/My Drive/Iowa Data/Climate/2319131.csv\")\n",
        "station2 = pd.read_csv(\"/content/gdrive/My Drive/Iowa Data/Climate/2319162.csv\")\n",
        "station3 = pd.read_csv(\"/content/gdrive/My Drive/Iowa Data/Climate/2319167.csv\")\n",
        "station4 = pd.read_csv(\"/content/gdrive/My Drive/Iowa Data/Climate/2319175.csv\")"
      ],
      "execution_count": null,
      "outputs": []
    },
    {
      "cell_type": "code",
      "metadata": {
        "id": "kO1iMFSs3fA5"
      },
      "source": [
        "station1 = station1.iloc[:,[2,5,6,7]].copy()\n",
        "station2 = station2.iloc[:,[2,5,6,7,8,9,10]].copy()\n",
        "station3 = station3.iloc[:,[2,5,6,7]].copy()\n",
        "station4 = station4.iloc[:,[2,3,4,5]].copy()"
      ],
      "execution_count": null,
      "outputs": []
    },
    {
      "cell_type": "code",
      "metadata": {
        "id": "BgIi35kydKHp"
      },
      "source": [
        "stations = pd.concat((station1,station2,station3,station4), axis=0)\n",
        "stations['DATE'] = pd.to_datetime(stations['DATE'])\n",
        "stations.rename({'DATE':'Date'},axis='columns',inplace=True)\n",
        "stations = stations.groupby(\"Date\").mean()\n",
        "stations = stations[:3044].copy()\n",
        "stations.interpolate(method='time',inplace=True)"
      ],
      "execution_count": null,
      "outputs": []
    },
    {
      "cell_type": "code",
      "metadata": {
        "id": "mcvjrl05l9nB"
      },
      "source": [
        "data = stations.merge(gauge,how='left',on='Date')"
      ],
      "execution_count": null,
      "outputs": []
    },
    {
      "cell_type": "code",
      "metadata": {
        "id": "XP__VK-Utm-v",
        "outputId": "e622117e-3d6f-42ec-f857-9b2cfe4d7fa4",
        "colab": {
          "base_uri": "https://localhost:8080/",
          "height": 450
        }
      },
      "source": [
        "data"
      ],
      "execution_count": null,
      "outputs": [
        {
          "output_type": "execute_result",
          "data": {
            "text/html": [
              "<div>\n",
              "<style scoped>\n",
              "    .dataframe tbody tr th:only-of-type {\n",
              "        vertical-align: middle;\n",
              "    }\n",
              "\n",
              "    .dataframe tbody tr th {\n",
              "        vertical-align: top;\n",
              "    }\n",
              "\n",
              "    .dataframe thead th {\n",
              "        text-align: right;\n",
              "    }\n",
              "</style>\n",
              "<table border=\"1\" class=\"dataframe\">\n",
              "  <thead>\n",
              "    <tr style=\"text-align: right;\">\n",
              "      <th></th>\n",
              "      <th>PRCP</th>\n",
              "      <th>SNOW</th>\n",
              "      <th>SNWD</th>\n",
              "      <th>TMAX</th>\n",
              "      <th>TMIN</th>\n",
              "      <th>TOBS</th>\n",
              "      <th>Discharge</th>\n",
              "      <th>StageHeight</th>\n",
              "    </tr>\n",
              "    <tr>\n",
              "      <th>Date</th>\n",
              "      <th></th>\n",
              "      <th></th>\n",
              "      <th></th>\n",
              "      <th></th>\n",
              "      <th></th>\n",
              "      <th></th>\n",
              "      <th></th>\n",
              "      <th></th>\n",
              "    </tr>\n",
              "  </thead>\n",
              "  <tbody>\n",
              "    <tr>\n",
              "      <th>2012-01-01</th>\n",
              "      <td>0.000000</td>\n",
              "      <td>0.0</td>\n",
              "      <td>0.0</td>\n",
              "      <td>50.0</td>\n",
              "      <td>29.0</td>\n",
              "      <td>31.0</td>\n",
              "      <td>431.0</td>\n",
              "      <td>6.16</td>\n",
              "    </tr>\n",
              "    <tr>\n",
              "      <th>2012-01-02</th>\n",
              "      <td>0.000000</td>\n",
              "      <td>0.0</td>\n",
              "      <td>0.0</td>\n",
              "      <td>34.0</td>\n",
              "      <td>19.0</td>\n",
              "      <td>19.0</td>\n",
              "      <td>431.0</td>\n",
              "      <td>6.15</td>\n",
              "    </tr>\n",
              "    <tr>\n",
              "      <th>2012-01-03</th>\n",
              "      <td>0.000000</td>\n",
              "      <td>0.0</td>\n",
              "      <td>0.0</td>\n",
              "      <td>26.0</td>\n",
              "      <td>4.0</td>\n",
              "      <td>5.0</td>\n",
              "      <td>431.0</td>\n",
              "      <td>6.14</td>\n",
              "    </tr>\n",
              "    <tr>\n",
              "      <th>2012-01-04</th>\n",
              "      <td>0.000000</td>\n",
              "      <td>0.0</td>\n",
              "      <td>0.0</td>\n",
              "      <td>34.0</td>\n",
              "      <td>5.0</td>\n",
              "      <td>28.0</td>\n",
              "      <td>431.0</td>\n",
              "      <td>6.13</td>\n",
              "    </tr>\n",
              "    <tr>\n",
              "      <th>2012-01-05</th>\n",
              "      <td>0.000000</td>\n",
              "      <td>0.0</td>\n",
              "      <td>0.0</td>\n",
              "      <td>45.0</td>\n",
              "      <td>20.0</td>\n",
              "      <td>22.0</td>\n",
              "      <td>462.0</td>\n",
              "      <td>6.21</td>\n",
              "    </tr>\n",
              "    <tr>\n",
              "      <th>...</th>\n",
              "      <td>...</td>\n",
              "      <td>...</td>\n",
              "      <td>...</td>\n",
              "      <td>...</td>\n",
              "      <td>...</td>\n",
              "      <td>...</td>\n",
              "      <td>...</td>\n",
              "      <td>...</td>\n",
              "    </tr>\n",
              "    <tr>\n",
              "      <th>2020-04-27</th>\n",
              "      <td>0.000000</td>\n",
              "      <td>0.0</td>\n",
              "      <td>0.0</td>\n",
              "      <td>71.0</td>\n",
              "      <td>49.0</td>\n",
              "      <td>57.0</td>\n",
              "      <td>2800.0</td>\n",
              "      <td>9.68</td>\n",
              "    </tr>\n",
              "    <tr>\n",
              "      <th>2020-04-28</th>\n",
              "      <td>0.000000</td>\n",
              "      <td>0.0</td>\n",
              "      <td>0.0</td>\n",
              "      <td>77.0</td>\n",
              "      <td>48.0</td>\n",
              "      <td>59.0</td>\n",
              "      <td>2640.0</td>\n",
              "      <td>9.44</td>\n",
              "    </tr>\n",
              "    <tr>\n",
              "      <th>2020-04-29</th>\n",
              "      <td>0.266667</td>\n",
              "      <td>0.0</td>\n",
              "      <td>0.0</td>\n",
              "      <td>72.0</td>\n",
              "      <td>46.0</td>\n",
              "      <td>47.0</td>\n",
              "      <td>2570.0</td>\n",
              "      <td>9.34</td>\n",
              "    </tr>\n",
              "    <tr>\n",
              "      <th>2020-04-30</th>\n",
              "      <td>0.000000</td>\n",
              "      <td>0.0</td>\n",
              "      <td>0.0</td>\n",
              "      <td>61.0</td>\n",
              "      <td>43.0</td>\n",
              "      <td>51.0</td>\n",
              "      <td>2470.0</td>\n",
              "      <td>9.19</td>\n",
              "    </tr>\n",
              "    <tr>\n",
              "      <th>2020-05-01</th>\n",
              "      <td>0.000000</td>\n",
              "      <td>0.0</td>\n",
              "      <td>0.0</td>\n",
              "      <td>61.0</td>\n",
              "      <td>43.0</td>\n",
              "      <td>51.0</td>\n",
              "      <td>2390.0</td>\n",
              "      <td>9.07</td>\n",
              "    </tr>\n",
              "  </tbody>\n",
              "</table>\n",
              "<p>3044 rows × 8 columns</p>\n",
              "</div>"
            ],
            "text/plain": [
              "                PRCP  SNOW  SNWD  TMAX  TMIN  TOBS  Discharge  StageHeight\n",
              "Date                                                                      \n",
              "2012-01-01  0.000000   0.0   0.0  50.0  29.0  31.0      431.0         6.16\n",
              "2012-01-02  0.000000   0.0   0.0  34.0  19.0  19.0      431.0         6.15\n",
              "2012-01-03  0.000000   0.0   0.0  26.0   4.0   5.0      431.0         6.14\n",
              "2012-01-04  0.000000   0.0   0.0  34.0   5.0  28.0      431.0         6.13\n",
              "2012-01-05  0.000000   0.0   0.0  45.0  20.0  22.0      462.0         6.21\n",
              "...              ...   ...   ...   ...   ...   ...        ...          ...\n",
              "2020-04-27  0.000000   0.0   0.0  71.0  49.0  57.0     2800.0         9.68\n",
              "2020-04-28  0.000000   0.0   0.0  77.0  48.0  59.0     2640.0         9.44\n",
              "2020-04-29  0.266667   0.0   0.0  72.0  46.0  47.0     2570.0         9.34\n",
              "2020-04-30  0.000000   0.0   0.0  61.0  43.0  51.0     2470.0         9.19\n",
              "2020-05-01  0.000000   0.0   0.0  61.0  43.0  51.0     2390.0         9.07\n",
              "\n",
              "[3044 rows x 8 columns]"
            ]
          },
          "metadata": {
            "tags": []
          },
          "execution_count": 15
        }
      ]
    },
    {
      "cell_type": "code",
      "metadata": {
        "id": "OjgNPUI8I7lJ"
      },
      "source": [
        "data.interpolate(method='time',inplace=True)"
      ],
      "execution_count": null,
      "outputs": []
    },
    {
      "cell_type": "code",
      "metadata": {
        "id": "pm_3LtGWEY1r",
        "outputId": "b5b24e65-05c9-402a-e3fe-9e182f29e8a9",
        "colab": {
          "base_uri": "https://localhost:8080/",
          "height": 139
        }
      },
      "source": [
        "lcd1 = pd.read_csv(\"/content/gdrive/My Drive/Iowa Data/Climate/2319193.csv\",encoding='UTF-8')\n",
        "lcd2 = pd.read_csv(\"/content/gdrive/My Drive/Iowa Data/Climate/2319199.csv\",encoding='UTF-8')\n",
        "lcd3 = pd.read_csv(\"/content/gdrive/My Drive/Iowa Data/Climate/2319202.csv\",encoding='UTF-8')"
      ],
      "execution_count": null,
      "outputs": [
        {
          "output_type": "stream",
          "text": [
            "/usr/local/lib/python3.6/dist-packages/IPython/core/interactiveshell.py:2718: DtypeWarning: Columns (30,31,42,43,49,51,59,69,71,88) have mixed types.Specify dtype option on import or set low_memory=False.\n",
            "  interactivity=interactivity, compiler=compiler, result=result)\n",
            "/usr/local/lib/python3.6/dist-packages/IPython/core/interactiveshell.py:2718: DtypeWarning: Columns (3,19,25,26,27,28,29,35,36,42,43,49,56,58,59,60,61,62,63,95,112,113,114,117,119) have mixed types.Specify dtype option on import or set low_memory=False.\n",
            "  interactivity=interactivity, compiler=compiler, result=result)\n",
            "/usr/local/lib/python3.6/dist-packages/IPython/core/interactiveshell.py:2718: DtypeWarning: Columns (41,42,43,51,56) have mixed types.Specify dtype option on import or set low_memory=False.\n",
            "  interactivity=interactivity, compiler=compiler, result=result)\n"
          ],
          "name": "stderr"
        }
      ]
    },
    {
      "cell_type": "code",
      "metadata": {
        "id": "nwQ3WhW2X0Qx"
      },
      "source": [
        "lcd1 = lcd1.iloc[:,[1,41,42,43,48,49,51,52,53,54,55,56]].copy()\n",
        "lcd2 = lcd2.iloc[:,[1,41,42,43,48,49,51,52,53,54,55,56]].copy()\n",
        "lcd3 = lcd3.iloc[:,[1,41,42,43,48,49,51,52,53,54,55,56]].copy()"
      ],
      "execution_count": null,
      "outputs": []
    },
    {
      "cell_type": "code",
      "metadata": {
        "id": "g4ETbGxb3XsW"
      },
      "source": [
        "lcd1['DATE'] = pd.to_datetime(lcd1['DATE']).dt.date\n",
        "lcd1[\"DATE\"] = pd.to_datetime(lcd1['DATE'])\n",
        "lcd2['DATE'] = pd.to_datetime(lcd2['DATE']).dt.date\n",
        "lcd2[\"DATE\"] = pd.to_datetime(lcd1['DATE'])\n",
        "lcd3['DATE'] = pd.to_datetime(lcd3['DATE']).dt.date\n",
        "lcd3[\"DATE\"] = pd.to_datetime(lcd1['DATE'])"
      ],
      "execution_count": null,
      "outputs": []
    },
    {
      "cell_type": "code",
      "metadata": {
        "id": "c_ayepcK0avv"
      },
      "source": [
        "lcd1.rename({'DATE':'Date','HourlyAltimeterSetting':'Altimeter','HourlyDewPointTemperature':'DPTemp','HourlyDryBulbTemperature':'Temperature','HourlyRelativeHumidity':'RelHumidity','HourlySeaLevelPressure':'SeaLevelPressure','HourlyStationPressure':'AtmPressure','HourlyVisibility':'Visibility','HourlyWetBulbTemperature':'WBTemp','HourlyWindDirection':'WindDir','HourlyWindGustSpeed':'GustSpeed','HourlyWindSpeed':'WindSpeed'},axis='columns',inplace=True)\n",
        "lcd2.rename({'DATE':'Date','HourlyAltimeterSetting':'Altimeter','HourlyDewPointTemperature':'DPTemp','HourlyDryBulbTemperature':'Temperature','HourlyRelativeHumidity':'RelHumidity','HourlySeaLevelPressure':'SeaLevelPressure','HourlyStationPressure':'AtmPressure','HourlyVisibility':'Visibility','HourlyWetBulbTemperature':'WBTemp','HourlyWindDirection':'WindDir','HourlyWindGustSpeed':'GustSpeed','HourlyWindSpeed':'WindSpeed'},axis='columns',inplace=True)\n",
        "lcd3.rename({'DATE':'Date','HourlyAltimeterSetting':'Altimeter','HourlyDewPointTemperature':'DPTemp','HourlyDryBulbTemperature':'Temperature','HourlyRelativeHumidity':'RelHumidity','HourlySeaLevelPressure':'SeaLevelPressure','HourlyStationPressure':'AtmPressure','HourlyVisibility':'Visibility','HourlyWetBulbTemperature':'WBTemp','HourlyWindDirection':'WindDir','HourlyWindGustSpeed':'GustSpeed','HourlyWindSpeed':'WindSpeed'},axis='columns',inplace=True)"
      ],
      "execution_count": null,
      "outputs": []
    },
    {
      "cell_type": "code",
      "metadata": {
        "id": "kKqdEu5eMZPw"
      },
      "source": [
        "lcd1.iloc[:,1:] = lcd1.iloc[:,1:].apply(pd.to_numeric,errors='coerce')\n",
        "lcd2.iloc[:,1:] = lcd2.iloc[:,1:].apply(pd.to_numeric,errors='coerce')\n",
        "lcd3.iloc[:,1:] = lcd3.iloc[:,1:].apply(pd.to_numeric,errors='coerce')"
      ],
      "execution_count": null,
      "outputs": []
    },
    {
      "cell_type": "code",
      "metadata": {
        "id": "DlBFd-0q0-TA"
      },
      "source": [
        "lcd1 = lcd1.groupby('Date').mean()\n",
        "lcd2 = lcd2.groupby('Date').mean()\n",
        "lcd3 = lcd3.groupby('Date').mean()"
      ],
      "execution_count": null,
      "outputs": []
    },
    {
      "cell_type": "code",
      "metadata": {
        "id": "h2j4-Ir2ZVtU"
      },
      "source": [
        "lcd1 = lcd1[:3044].copy()\n",
        "lcd2 = lcd2[:3044].copy()\n",
        "lcd3 = lcd3[:3044].copy()"
      ],
      "execution_count": null,
      "outputs": []
    },
    {
      "cell_type": "code",
      "metadata": {
        "id": "tm9lNsDS0ljI"
      },
      "source": [
        "lcd = pd.concat((lcd1,lcd2,lcd3),axis=0)\n",
        "lcd = lcd.groupby(['Date']).mean()"
      ],
      "execution_count": null,
      "outputs": []
    },
    {
      "cell_type": "code",
      "metadata": {
        "id": "UddrPhWmRkZw"
      },
      "source": [
        "lcd.interpolate(method='time',inplace=True)"
      ],
      "execution_count": null,
      "outputs": []
    },
    {
      "cell_type": "code",
      "metadata": {
        "id": "GfldzPYZUU5s",
        "outputId": "1c4e3f68-c9b8-4b8b-a005-3b9ae5ae058d",
        "colab": {
          "base_uri": "https://localhost:8080/",
          "height": 34
        }
      },
      "source": [
        "lcd.isna().values.any()"
      ],
      "execution_count": null,
      "outputs": [
        {
          "output_type": "execute_result",
          "data": {
            "text/plain": [
              "False"
            ]
          },
          "metadata": {
            "tags": []
          },
          "execution_count": 102
        }
      ]
    },
    {
      "cell_type": "code",
      "metadata": {
        "id": "yhjxgdAtUZP1"
      },
      "source": [
        "data = lcd.merge(data,how='left',on='Date')"
      ],
      "execution_count": null,
      "outputs": []
    },
    {
      "cell_type": "code",
      "metadata": {
        "id": "daKjRb7_W7En"
      },
      "source": [
        "data.drop(columns=['GustSpeed','TMAX','TMIN','WBTemp','Altimeter','DPTemp'],inplace=True)"
      ],
      "execution_count": null,
      "outputs": []
    },
    {
      "cell_type": "code",
      "metadata": {
        "id": "UWoqrC1GXhp8"
      },
      "source": [
        "data['Temperature'] = data[['Temperature','TOBS']].mean(axis=1)\n"
      ],
      "execution_count": null,
      "outputs": []
    },
    {
      "cell_type": "code",
      "metadata": {
        "id": "EPDhzolGfKBj"
      },
      "source": [
        "data.drop(columns=['TOBS','SeaLevelPressure'],inplace=True)"
      ],
      "execution_count": null,
      "outputs": []
    },
    {
      "cell_type": "code",
      "metadata": {
        "id": "kgXStURFeiKO"
      },
      "source": [
        "data.rename({'PRCP':'Precipitation','SNOW':'Snowfall','SNWD':'SnowDepth'},axis='columns',inplace=True)"
      ],
      "execution_count": null,
      "outputs": []
    },
    {
      "cell_type": "code",
      "metadata": {
        "id": "kY7twEMYePAN",
        "outputId": "68e7a318-4495-47b9-ec12-b6815d705c9a",
        "colab": {
          "base_uri": "https://localhost:8080/",
          "height": 450
        }
      },
      "source": [
        "data"
      ],
      "execution_count": null,
      "outputs": [
        {
          "output_type": "execute_result",
          "data": {
            "text/html": [
              "<div>\n",
              "<style scoped>\n",
              "    .dataframe tbody tr th:only-of-type {\n",
              "        vertical-align: middle;\n",
              "    }\n",
              "\n",
              "    .dataframe tbody tr th {\n",
              "        vertical-align: top;\n",
              "    }\n",
              "\n",
              "    .dataframe thead th {\n",
              "        text-align: right;\n",
              "    }\n",
              "</style>\n",
              "<table border=\"1\" class=\"dataframe\">\n",
              "  <thead>\n",
              "    <tr style=\"text-align: right;\">\n",
              "      <th></th>\n",
              "      <th>Temperature</th>\n",
              "      <th>RelHumidity</th>\n",
              "      <th>AtmPressure</th>\n",
              "      <th>Visibility</th>\n",
              "      <th>WindDir</th>\n",
              "      <th>WindSpeed</th>\n",
              "      <th>Precipitation</th>\n",
              "      <th>Snowfall</th>\n",
              "      <th>SnowDepth</th>\n",
              "      <th>Discharge</th>\n",
              "      <th>StageHeight</th>\n",
              "    </tr>\n",
              "    <tr>\n",
              "      <th>Date</th>\n",
              "      <th></th>\n",
              "      <th></th>\n",
              "      <th></th>\n",
              "      <th></th>\n",
              "      <th></th>\n",
              "      <th></th>\n",
              "      <th></th>\n",
              "      <th></th>\n",
              "      <th></th>\n",
              "      <th></th>\n",
              "      <th></th>\n",
              "    </tr>\n",
              "  </thead>\n",
              "  <tbody>\n",
              "    <tr>\n",
              "      <th>2012-01-01</th>\n",
              "      <td>31.377184</td>\n",
              "      <td>67.264113</td>\n",
              "      <td>29.148495</td>\n",
              "      <td>9.924731</td>\n",
              "      <td>307.315188</td>\n",
              "      <td>26.106519</td>\n",
              "      <td>0.000000</td>\n",
              "      <td>0.0</td>\n",
              "      <td>0.0</td>\n",
              "      <td>431.0</td>\n",
              "      <td>6.16</td>\n",
              "    </tr>\n",
              "    <tr>\n",
              "      <th>2012-01-02</th>\n",
              "      <td>21.597816</td>\n",
              "      <td>57.447293</td>\n",
              "      <td>29.446576</td>\n",
              "      <td>9.648623</td>\n",
              "      <td>313.452042</td>\n",
              "      <td>22.056030</td>\n",
              "      <td>0.000000</td>\n",
              "      <td>0.0</td>\n",
              "      <td>0.0</td>\n",
              "      <td>431.0</td>\n",
              "      <td>6.15</td>\n",
              "    </tr>\n",
              "    <tr>\n",
              "      <th>2012-01-03</th>\n",
              "      <td>13.325833</td>\n",
              "      <td>63.510556</td>\n",
              "      <td>29.374611</td>\n",
              "      <td>9.958333</td>\n",
              "      <td>205.077778</td>\n",
              "      <td>12.933333</td>\n",
              "      <td>0.000000</td>\n",
              "      <td>0.0</td>\n",
              "      <td>0.0</td>\n",
              "      <td>431.0</td>\n",
              "      <td>6.14</td>\n",
              "    </tr>\n",
              "    <tr>\n",
              "      <th>2012-01-04</th>\n",
              "      <td>28.436111</td>\n",
              "      <td>60.340556</td>\n",
              "      <td>29.277206</td>\n",
              "      <td>9.986111</td>\n",
              "      <td>270.088889</td>\n",
              "      <td>13.722222</td>\n",
              "      <td>0.000000</td>\n",
              "      <td>0.0</td>\n",
              "      <td>0.0</td>\n",
              "      <td>431.0</td>\n",
              "      <td>6.13</td>\n",
              "    </tr>\n",
              "    <tr>\n",
              "      <th>2012-01-05</th>\n",
              "      <td>27.694203</td>\n",
              "      <td>59.460000</td>\n",
              "      <td>29.183378</td>\n",
              "      <td>10.000000</td>\n",
              "      <td>214.551208</td>\n",
              "      <td>8.610556</td>\n",
              "      <td>0.000000</td>\n",
              "      <td>0.0</td>\n",
              "      <td>0.0</td>\n",
              "      <td>462.0</td>\n",
              "      <td>6.21</td>\n",
              "    </tr>\n",
              "    <tr>\n",
              "      <th>...</th>\n",
              "      <td>...</td>\n",
              "      <td>...</td>\n",
              "      <td>...</td>\n",
              "      <td>...</td>\n",
              "      <td>...</td>\n",
              "      <td>...</td>\n",
              "      <td>...</td>\n",
              "      <td>...</td>\n",
              "      <td>...</td>\n",
              "      <td>...</td>\n",
              "      <td>...</td>\n",
              "    </tr>\n",
              "    <tr>\n",
              "      <th>2020-04-27</th>\n",
              "      <td>51.229444</td>\n",
              "      <td>61.521111</td>\n",
              "      <td>29.144978</td>\n",
              "      <td>9.973333</td>\n",
              "      <td>202.727778</td>\n",
              "      <td>11.809444</td>\n",
              "      <td>0.000000</td>\n",
              "      <td>0.0</td>\n",
              "      <td>0.0</td>\n",
              "      <td>2800.0</td>\n",
              "      <td>9.68</td>\n",
              "    </tr>\n",
              "    <tr>\n",
              "      <th>2020-04-28</th>\n",
              "      <td>50.921569</td>\n",
              "      <td>77.941176</td>\n",
              "      <td>29.030761</td>\n",
              "      <td>8.272579</td>\n",
              "      <td>210.077243</td>\n",
              "      <td>13.134284</td>\n",
              "      <td>0.000000</td>\n",
              "      <td>0.0</td>\n",
              "      <td>0.0</td>\n",
              "      <td>2640.0</td>\n",
              "      <td>9.44</td>\n",
              "    </tr>\n",
              "    <tr>\n",
              "      <th>2020-04-29</th>\n",
              "      <td>44.999384</td>\n",
              "      <td>80.238506</td>\n",
              "      <td>29.053674</td>\n",
              "      <td>7.249589</td>\n",
              "      <td>246.338259</td>\n",
              "      <td>14.191708</td>\n",
              "      <td>0.266667</td>\n",
              "      <td>0.0</td>\n",
              "      <td>0.0</td>\n",
              "      <td>2570.0</td>\n",
              "      <td>9.34</td>\n",
              "    </tr>\n",
              "    <tr>\n",
              "      <th>2020-04-30</th>\n",
              "      <td>47.742778</td>\n",
              "      <td>73.592265</td>\n",
              "      <td>29.152803</td>\n",
              "      <td>9.360000</td>\n",
              "      <td>185.605556</td>\n",
              "      <td>6.113547</td>\n",
              "      <td>0.000000</td>\n",
              "      <td>0.0</td>\n",
              "      <td>0.0</td>\n",
              "      <td>2470.0</td>\n",
              "      <td>9.19</td>\n",
              "    </tr>\n",
              "    <tr>\n",
              "      <th>2020-05-01</th>\n",
              "      <td>48.411389</td>\n",
              "      <td>75.922222</td>\n",
              "      <td>29.146472</td>\n",
              "      <td>8.322917</td>\n",
              "      <td>126.983333</td>\n",
              "      <td>7.899444</td>\n",
              "      <td>0.000000</td>\n",
              "      <td>0.0</td>\n",
              "      <td>0.0</td>\n",
              "      <td>2390.0</td>\n",
              "      <td>9.07</td>\n",
              "    </tr>\n",
              "  </tbody>\n",
              "</table>\n",
              "<p>3044 rows × 11 columns</p>\n",
              "</div>"
            ],
            "text/plain": [
              "            Temperature  RelHumidity  ...  Discharge  StageHeight\n",
              "Date                                  ...                        \n",
              "2012-01-01    31.377184    67.264113  ...      431.0         6.16\n",
              "2012-01-02    21.597816    57.447293  ...      431.0         6.15\n",
              "2012-01-03    13.325833    63.510556  ...      431.0         6.14\n",
              "2012-01-04    28.436111    60.340556  ...      431.0         6.13\n",
              "2012-01-05    27.694203    59.460000  ...      462.0         6.21\n",
              "...                 ...          ...  ...        ...          ...\n",
              "2020-04-27    51.229444    61.521111  ...     2800.0         9.68\n",
              "2020-04-28    50.921569    77.941176  ...     2640.0         9.44\n",
              "2020-04-29    44.999384    80.238506  ...     2570.0         9.34\n",
              "2020-04-30    47.742778    73.592265  ...     2470.0         9.19\n",
              "2020-05-01    48.411389    75.922222  ...     2390.0         9.07\n",
              "\n",
              "[3044 rows x 11 columns]"
            ]
          },
          "metadata": {
            "tags": []
          },
          "execution_count": 123
        }
      ]
    },
    {
      "cell_type": "code",
      "metadata": {
        "id": "04fhr4mYgU7l"
      },
      "source": [
        "data.to_csv('/content/gdrive/My Drive/Iowa Data/Climate/IowaWeather2.csv')"
      ],
      "execution_count": null,
      "outputs": []
    }
  ]
}